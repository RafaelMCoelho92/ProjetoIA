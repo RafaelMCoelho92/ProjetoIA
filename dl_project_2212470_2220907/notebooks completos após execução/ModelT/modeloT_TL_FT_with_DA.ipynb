{
  "cells": [
    {
      "cell_type": "code",
      "execution_count": null,
      "metadata": {
        "colab": {
          "base_uri": "https://localhost:8080/"
        },
        "id": "zGH2pwuY6-mf",
        "outputId": "d2cd4bea-e85d-48c1-a265-870ddb0e14b2"
      },
      "outputs": [
        {
          "name": "stdout",
          "output_type": "stream",
          "text": [
            "Drive already mounted at /content/drive; to attempt to forcibly remount, call drive.mount(\"/content/drive\", force_remount=True).\n"
          ]
        }
      ],
      "source": [
        "#Used to mount google drive to colab so that files can be accessed from google drive\n",
        "from google.colab import drive\n",
        "drive.mount('/content/drive')"
      ]
    },
    {
      "cell_type": "code",
      "execution_count": null,
      "metadata": {
        "id": "iBXwOAwx7AzB"
      },
      "outputs": [],
      "source": [
        "#Importing necessary libraries for the project \n",
        "import tensorflow as tf\n",
        "from keras.utils import image_dataset_from_directory\n",
        "from keras.applications.vgg16 import VGG16\n",
        "from tensorflow import keras\n",
        "from keras import layers"
      ]
    },
    {
      "cell_type": "code",
      "execution_count": null,
      "metadata": {
        "colab": {
          "base_uri": "https://localhost:8080/"
        },
        "id": "ESQPrLUw7Cwi",
        "outputId": "41b4d1d3-e17d-45e1-f479-1fe93a96bbd7"
      },
      "outputs": [
        {
          "name": "stdout",
          "output_type": "stream",
          "text": [
            "Found 10400 files belonging to 10 classes.\n",
            "Found 9600 files belonging to 10 classes.\n",
            "Found 10000 files belonging to 10 classes.\n",
            "Found 10000 files belonging to 10 classes.\n",
            "Found 10000 files belonging to 10 classes.\n",
            "Found 10000 files belonging to 1 classes.\n",
            "Found 10400 files belonging to 10 classes.\n",
            "['000_airplane', '001_automobile', '002_bird', '003_cat', '004_deer', '005_dog', '006_frog', '007_horse', '008_ship', '009_truck']\n"
          ]
        }
      ],
      "source": [
        "# Directories\n",
        "#specifying the directories where the datasets of train, validation and test are stored\n",
        "train_dirs = [\n",
        "    '/content/drive/MyDrive/ProjetoIA/dataset/train1',\n",
        "    '/content/drive/MyDrive/ProjetoIA/dataset/train2',\n",
        "    '/content/drive/MyDrive/ProjetoIA/dataset/train4',\n",
        "    '/content/drive/MyDrive/ProjetoIA/dataset/train5'\n",
        "]\n",
        "validation_dir = '/content/drive/MyDrive/ProjetoIA/dataset/train3'\n",
        "test_dir = '/content/drive/MyDrive/ProjetoIA/dataset/test'\n",
        "\n",
        "# Parameters\n",
        "IMG_SIZE = 150\n",
        "BATCH_SIZE = 32\n",
        "\n",
        "# Function to load datasets from multiple directories and concatenate them\n",
        "def load_and_concatenate_datasets(directories, img_size, batch_size):\n",
        "    datasets = [] #list to store the datasets\n",
        "    for directory in directories:\n",
        "        # Load dataset from directory\n",
        "        dataset = image_dataset_from_directory(\n",
        "            directory,\n",
        "            image_size=(img_size, img_size),\n",
        "            batch_size=batch_size\n",
        "        )\n",
        "        datasets.append(dataset) #append the dataset to the list\n",
        "    return datasets\n",
        "\n",
        "# Load train datasets and concatenate\n",
        "train_datasets = load_and_concatenate_datasets(train_dirs, IMG_SIZE, BATCH_SIZE)\n",
        "#combine the train datasets in a unique dataset\n",
        "train_dataset = tf.data.Dataset.sample_from_datasets(train_datasets)\n",
        "\n",
        "# Load validation and test datasets\n",
        "validation_dataset = image_dataset_from_directory(\n",
        "    validation_dir,\n",
        "    image_size=(IMG_SIZE, IMG_SIZE),\n",
        "    batch_size=BATCH_SIZE\n",
        ")\n",
        "test_dataset = image_dataset_from_directory(\n",
        "    test_dir,\n",
        "    image_size=(IMG_SIZE, IMG_SIZE),\n",
        "    batch_size=BATCH_SIZE\n",
        ")\n",
        "\n",
        "# Extract class names from one of the datasets\n",
        "example_dataset = image_dataset_from_directory(\n",
        "    train_dirs[0],\n",
        "    image_size=(IMG_SIZE, IMG_SIZE),\n",
        "    batch_size=BATCH_SIZE\n",
        ")\n",
        "class_names = example_dataset.class_names\n",
        "print(class_names) "
      ]
    },
    {
      "cell_type": "code",
      "execution_count": null,
      "metadata": {
        "colab": {
          "base_uri": "https://localhost:8080/"
        },
        "id": "zPZvesR77G9F",
        "outputId": "6551b3f0-8495-4fd2-8d09-5c71671c2b4c"
      },
      "outputs": [
        {
          "name": "stdout",
          "output_type": "stream",
          "text": [
            "Downloading data from https://storage.googleapis.com/tensorflow/keras-applications/vgg16/vgg16_weights_tf_dim_ordering_tf_kernels_notop.h5\n",
            "58889256/58889256 [==============================] - 0s 0us/step\n"
          ]
        }
      ],
      "source": [
        "# Build the model\n",
        "# Create the base model from the pre-trained model VGG16 with weights from ImageNet\n",
        "# excluding the top layers\n",
        "\n",
        "# Fine-tuning the model\n",
        "conv_base = VGG16(weights=\"imagenet\", include_top=False)\n",
        "conv_base.trainable = True #defining that the convolutional base is trainable\n",
        "for layer in conv_base.layers[:-2]: #excluding the last two layers\n",
        "    layer.trainable = False #defining that the layers are not trainable"
      ]
    },
    {
      "cell_type": "code",
      "execution_count": null,
      "metadata": {
        "id": "IKq9eBB97JyR"
      },
      "outputs": [],
      "source": [
        "# Data augmentation\n",
        "#Flip horizontal ramdomly, rotate randomly 10%, and zoom randomly 20%\n",
        "data_augmentation = keras.Sequential(\n",
        "    [\n",
        "        layers.RandomFlip(\"horizontal\"),\n",
        "        layers.RandomRotation(0.1),\n",
        "        layers.RandomZoom(0.2),\n",
        "    ]\n",
        ")\n",
        "\n",
        "inputs = keras.Input(shape=(150, 150, 3)) # defining the input shape, considering the image redimensioned to 150x150 with 3 channels(RGB)\n",
        "x = data_augmentation(inputs) #applying the transformations of the data augmentation\n",
        "x = keras.applications.vgg16.preprocess_input(x)  # Apply input value scaling\n",
        "x = conv_base(x)\n",
        "x = layers.Flatten()(x)\n",
        "x = layers.Dense(256, activation='relu')(x)\n",
        "x = layers.Dropout(0.5)(x)\n",
        "outputs = layers.Dense(10, activation=\"softmax\")(x)\n",
        "model = keras.Model(inputs, outputs)"
      ]
    },
    {
      "cell_type": "code",
      "execution_count": null,
      "metadata": {
        "id": "dKwohYX47kHI"
      },
      "outputs": [],
      "source": [
        "# Compile the model\n",
        "model.compile(\n",
        "    loss=\"sparse_categorical_crossentropy\",\n",
        "    optimizer=keras.optimizers.RMSprop(learning_rate=1e-5),\n",
        "    metrics=[\"accuracy\"]\n",
        ")"
      ]
    },
    {
      "cell_type": "code",
      "execution_count": null,
      "metadata": {
        "id": "LL9yk66x7mmg"
      },
      "outputs": [],
      "source": [
        "# Adding ModelCheckpoint callback\n",
        "# its for saving the best model based on the validation loss\n",
        "# and has a patience of 5 epochs to avoid overfitting\n",
        "checkpoint_cb = tf.keras.callbacks.ModelCheckpoint(\n",
        "    '/content/drive/MyDrive/ProjetoIA/models/CNN_modeloT_TL_FT_with_DA_best.h5',\n",
        "    save_best_only=True,\n",
        "    monitor='val_loss',\n",
        "    mode='min',\n",
        "    verbose=1\n",
        ")\n",
        "early_stop = tf.keras.callbacks.EarlyStopping(monitor='val_loss',\n",
        "                           patience=5,\n",
        "                           verbose=1)"
      ]
    },
    {
      "cell_type": "code",
      "execution_count": null,
      "metadata": {
        "colab": {
          "base_uri": "https://localhost:8080/"
        },
        "id": "xbwqXjct7qY7",
        "outputId": "7b23fcd8-0423-4796-9a6e-86eda538e7a6"
      },
      "outputs": [
        {
          "name": "stdout",
          "output_type": "stream",
          "text": [
            "Epoch 1/30\n",
            "   1251/Unknown - 432s 343ms/step - loss: 4.7180 - accuracy: 0.3935\n",
            "Epoch 1: val_loss improved from inf to 1.10213, saving model to /content/drive/MyDrive/ProjetoIA/models/CNN_modeloT_TL_FT_with_DA_best.h5\n"
          ]
        },
        {
          "name": "stderr",
          "output_type": "stream",
          "text": [
            "/usr/local/lib/python3.10/dist-packages/keras/src/engine/training.py:3103: UserWarning: You are saving your model as an HDF5 file via `model.save()`. This file format is considered legacy. We recommend using instead the native Keras format, e.g. `model.save('my_model.keras')`.\n",
            "  saving_api.save_model(\n"
          ]
        },
        {
          "name": "stdout",
          "output_type": "stream",
          "text": [
            "1251/1251 [==============================] - 525s 417ms/step - loss: 4.7180 - accuracy: 0.3935 - val_loss: 1.1021 - val_accuracy: 0.6955\n",
            "Epoch 2/30\n",
            "1251/1251 [==============================] - ETA: 0s - loss: 1.5968 - accuracy: 0.5622\n",
            "Epoch 2: val_loss improved from 1.10213 to 0.78613, saving model to /content/drive/MyDrive/ProjetoIA/models/CNN_modeloT_TL_FT_with_DA_best.h5\n",
            "1251/1251 [==============================] - 507s 405ms/step - loss: 1.5968 - accuracy: 0.5622 - val_loss: 0.7861 - val_accuracy: 0.7512\n",
            "Epoch 3/30\n",
            "1251/1251 [==============================] - ETA: 0s - loss: 1.2200 - accuracy: 0.6291\n",
            "Epoch 3: val_loss improved from 0.78613 to 0.67552, saving model to /content/drive/MyDrive/ProjetoIA/models/CNN_modeloT_TL_FT_with_DA_best.h5\n",
            "1251/1251 [==============================] - 503s 401ms/step - loss: 1.2200 - accuracy: 0.6291 - val_loss: 0.6755 - val_accuracy: 0.7887\n",
            "Epoch 4/30\n",
            "1251/1251 [==============================] - ETA: 0s - loss: 1.0614 - accuracy: 0.6738\n",
            "Epoch 4: val_loss improved from 0.67552 to 0.62552, saving model to /content/drive/MyDrive/ProjetoIA/models/CNN_modeloT_TL_FT_with_DA_best.h5\n",
            "1251/1251 [==============================] - 506s 404ms/step - loss: 1.0614 - accuracy: 0.6738 - val_loss: 0.6255 - val_accuracy: 0.8092\n",
            "Epoch 5/30\n",
            "1251/1251 [==============================] - ETA: 0s - loss: 0.9670 - accuracy: 0.7042\n",
            "Epoch 5: val_loss improved from 0.62552 to 0.59257, saving model to /content/drive/MyDrive/ProjetoIA/models/CNN_modeloT_TL_FT_with_DA_best.h5\n",
            "1251/1251 [==============================] - 505s 403ms/step - loss: 0.9670 - accuracy: 0.7042 - val_loss: 0.5926 - val_accuracy: 0.8283\n",
            "Epoch 6/30\n",
            "1251/1251 [==============================] - ETA: 0s - loss: 0.9084 - accuracy: 0.7232\n",
            "Epoch 6: val_loss improved from 0.59257 to 0.58089, saving model to /content/drive/MyDrive/ProjetoIA/models/CNN_modeloT_TL_FT_with_DA_best.h5\n",
            "1251/1251 [==============================] - 511s 408ms/step - loss: 0.9084 - accuracy: 0.7232 - val_loss: 0.5809 - val_accuracy: 0.8318\n",
            "Epoch 7/30\n",
            "1251/1251 [==============================] - ETA: 0s - loss: 0.8698 - accuracy: 0.7358\n",
            "Epoch 7: val_loss improved from 0.58089 to 0.55890, saving model to /content/drive/MyDrive/ProjetoIA/models/CNN_modeloT_TL_FT_with_DA_best.h5\n",
            "1251/1251 [==============================] - 513s 410ms/step - loss: 0.8698 - accuracy: 0.7358 - val_loss: 0.5589 - val_accuracy: 0.8352\n",
            "Epoch 8/30\n",
            "1251/1251 [==============================] - ETA: 0s - loss: 0.8222 - accuracy: 0.7515\n",
            "Epoch 8: val_loss improved from 0.55890 to 0.54758, saving model to /content/drive/MyDrive/ProjetoIA/models/CNN_modeloT_TL_FT_with_DA_best.h5\n",
            "1251/1251 [==============================] - 515s 411ms/step - loss: 0.8222 - accuracy: 0.7515 - val_loss: 0.5476 - val_accuracy: 0.8456\n",
            "Epoch 9/30\n",
            "1251/1251 [==============================] - ETA: 0s - loss: 0.7934 - accuracy: 0.7589\n",
            "Epoch 9: val_loss improved from 0.54758 to 0.53366, saving model to /content/drive/MyDrive/ProjetoIA/models/CNN_modeloT_TL_FT_with_DA_best.h5\n",
            "1251/1251 [==============================] - 514s 410ms/step - loss: 0.7934 - accuracy: 0.7589 - val_loss: 0.5337 - val_accuracy: 0.8481\n",
            "Epoch 10/30\n",
            "1251/1251 [==============================] - ETA: 0s - loss: 0.7689 - accuracy: 0.7658\n",
            "Epoch 10: val_loss did not improve from 0.53366\n",
            "1251/1251 [==============================] - 505s 403ms/step - loss: 0.7689 - accuracy: 0.7658 - val_loss: 0.5367 - val_accuracy: 0.8532\n",
            "Epoch 11/30\n",
            "1251/1251 [==============================] - ETA: 0s - loss: 0.7599 - accuracy: 0.7729\n",
            "Epoch 11: val_loss improved from 0.53366 to 0.51702, saving model to /content/drive/MyDrive/ProjetoIA/models/CNN_modeloT_TL_FT_with_DA_best.h5\n",
            "1251/1251 [==============================] - 504s 403ms/step - loss: 0.7599 - accuracy: 0.7729 - val_loss: 0.5170 - val_accuracy: 0.8549\n",
            "Epoch 12/30\n",
            "1251/1251 [==============================] - ETA: 0s - loss: 0.7336 - accuracy: 0.7819\n",
            "Epoch 12: val_loss improved from 0.51702 to 0.50995, saving model to /content/drive/MyDrive/ProjetoIA/models/CNN_modeloT_TL_FT_with_DA_best.h5\n",
            "1251/1251 [==============================] - 504s 402ms/step - loss: 0.7336 - accuracy: 0.7819 - val_loss: 0.5099 - val_accuracy: 0.8589\n",
            "Epoch 13/30\n",
            "1251/1251 [==============================] - ETA: 0s - loss: 0.7138 - accuracy: 0.7894\n",
            "Epoch 13: val_loss improved from 0.50995 to 0.49804, saving model to /content/drive/MyDrive/ProjetoIA/models/CNN_modeloT_TL_FT_with_DA_best.h5\n",
            "1251/1251 [==============================] - 504s 402ms/step - loss: 0.7138 - accuracy: 0.7894 - val_loss: 0.4980 - val_accuracy: 0.8610\n",
            "Epoch 14/30\n",
            "1251/1251 [==============================] - ETA: 0s - loss: 0.6994 - accuracy: 0.7911\n",
            "Epoch 14: val_loss improved from 0.49804 to 0.49517, saving model to /content/drive/MyDrive/ProjetoIA/models/CNN_modeloT_TL_FT_with_DA_best.h5\n",
            "1251/1251 [==============================] - 509s 406ms/step - loss: 0.6994 - accuracy: 0.7911 - val_loss: 0.4952 - val_accuracy: 0.8642\n",
            "Epoch 15/30\n",
            "1251/1251 [==============================] - ETA: 0s - loss: 0.6965 - accuracy: 0.7961\n",
            "Epoch 15: val_loss did not improve from 0.49517\n",
            "1251/1251 [==============================] - 511s 407ms/step - loss: 0.6965 - accuracy: 0.7961 - val_loss: 0.4969 - val_accuracy: 0.8673\n",
            "Epoch 16/30\n",
            "1251/1251 [==============================] - ETA: 0s - loss: 0.6730 - accuracy: 0.8030\n",
            "Epoch 16: val_loss improved from 0.49517 to 0.48713, saving model to /content/drive/MyDrive/ProjetoIA/models/CNN_modeloT_TL_FT_with_DA_best.h5\n",
            "1251/1251 [==============================] - 514s 410ms/step - loss: 0.6730 - accuracy: 0.8030 - val_loss: 0.4871 - val_accuracy: 0.8711\n",
            "Epoch 17/30\n",
            "1251/1251 [==============================] - ETA: 0s - loss: 0.6666 - accuracy: 0.8023\n",
            "Epoch 17: val_loss improved from 0.48713 to 0.47518, saving model to /content/drive/MyDrive/ProjetoIA/models/CNN_modeloT_TL_FT_with_DA_best.h5\n",
            "1251/1251 [==============================] - 513s 410ms/step - loss: 0.6666 - accuracy: 0.8023 - val_loss: 0.4752 - val_accuracy: 0.8718\n",
            "Epoch 18/30\n",
            "1251/1251 [==============================] - ETA: 0s - loss: 0.6631 - accuracy: 0.8078\n",
            "Epoch 18: val_loss did not improve from 0.47518\n",
            "1251/1251 [==============================] - 509s 406ms/step - loss: 0.6631 - accuracy: 0.8078 - val_loss: 0.4823 - val_accuracy: 0.8749\n",
            "Epoch 19/30\n",
            "1251/1251 [==============================] - ETA: 0s - loss: 0.6527 - accuracy: 0.8094\n",
            "Epoch 19: val_loss did not improve from 0.47518\n",
            "1251/1251 [==============================] - 516s 412ms/step - loss: 0.6527 - accuracy: 0.8094 - val_loss: 0.4818 - val_accuracy: 0.8775\n",
            "Epoch 20/30\n",
            "1251/1251 [==============================] - ETA: 0s - loss: 0.6440 - accuracy: 0.8131\n",
            "Epoch 20: val_loss did not improve from 0.47518\n",
            "1251/1251 [==============================] - 518s 414ms/step - loss: 0.6440 - accuracy: 0.8131 - val_loss: 0.4770 - val_accuracy: 0.8785\n",
            "Epoch 21/30\n",
            "1251/1251 [==============================] - ETA: 0s - loss: 0.6271 - accuracy: 0.8186\n",
            "Epoch 21: val_loss did not improve from 0.47518\n",
            "1251/1251 [==============================] - 510s 407ms/step - loss: 0.6271 - accuracy: 0.8186 - val_loss: 0.4908 - val_accuracy: 0.8760\n",
            "Epoch 22/30\n",
            "1251/1251 [==============================] - ETA: 0s - loss: 0.6234 - accuracy: 0.8234\n",
            "Epoch 22: val_loss did not improve from 0.47518\n",
            "1251/1251 [==============================] - 506s 404ms/step - loss: 0.6234 - accuracy: 0.8234 - val_loss: 0.4909 - val_accuracy: 0.8808\n",
            "Epoch 22: early stopping\n"
          ]
        }
      ],
      "source": [
        "# Train the model with fine-tuning and checkpointing\n",
        "history = model.fit(\n",
        "    train_dataset,\n",
        "    epochs=30,\n",
        "    validation_data=validation_dataset,\n",
        "    callbacks=[checkpoint_cb, early_stop]\n",
        ")\n",
        "\n",
        "# Save the final model\n",
        "model.save('/content/drive/MyDrive/ProjetoIA/models/CNN_modeloT_TL_FT_with_DA.h5')"
      ]
    },
    {
      "cell_type": "code",
      "execution_count": null,
      "metadata": {
        "colab": {
          "base_uri": "https://localhost:8080/",
          "height": 887
        },
        "id": "7eM_XwEQcMUh",
        "outputId": "06556821-eb94-422d-b017-a891577ee2e0"
      },
      "outputs": [
        {
          "data": {
            "image/png": "[encoded data removed]",
            "text/plain": [
              "<Figure size 640x480 with 1 Axes>"
            ]
          },
          "metadata": {},
          "output_type": "display_data"
        },
        {
          "data": {
            "image/png": "[encoded data removed]",
            "text/plain": [
              "<Figure size 640x480 with 1 Axes>"
            ]
          },
          "metadata": {},
          "output_type": "display_data"
        }
      ],
      "source": [
        "#Displaying curves of loss and accuracy\n",
        "\n",
        "import matplotlib.pyplot as plt\n",
        "acc = history.history['accuracy']\n",
        "val_acc = history.history['val_accuracy']\n",
        "loss = history.history['loss']\n",
        "val_loss = history.history['val_loss']\n",
        "epochs = range(1, len(acc) + 1)\n",
        "plt.plot(epochs, acc, 'bo', label='Training acc')\n",
        "plt.plot(epochs, val_acc, 'b', label='Validation acc')\n",
        "plt.title('Training and validation accuracy')\n",
        "plt.legend()\n",
        "plt.figure()\n",
        "plt.plot(epochs, loss, 'bo', label='Training loss')\n",
        "plt.plot(epochs, val_loss, 'b', label='Validation loss')\n",
        "plt.title('Training and validation loss')\n",
        "plt.legend()\n",
        "plt.show()"
      ]
    },
    {
      "cell_type": "code",
      "execution_count": null,
      "metadata": {
        "colab": {
          "base_uri": "https://localhost:8080/"
        },
        "id": "lLtMMLfYrv4U",
        "outputId": "66812829-3621-4e98-e395-861294144651"
      },
      "outputs": [
        {
          "name": "stdout",
          "output_type": "stream",
          "text": [
            "313/313 [==============================] - 87s 277ms/step - loss: 0.4909 - accuracy: 0.8808\n",
            "val_acc: 0.8808000087738037\n"
          ]
        }
      ],
      "source": [
        "#We can later load it and test it:\n",
        "#loaded_model = keras.models.load_model('/content/drive/MyDrive/ProjetoIA/models/CNN_modeloT_TL_FT_with_DA.h5')\n",
        "val_loss, val_acc = model.evaluate(validation_dataset)\n",
        "print('val_acc:', val_acc)"
      ]
    },
    {
      "cell_type": "markdown",
      "metadata": {},
      "source": [
        "Foram avaliados 313 batches no conjunto de validação\n",
        "Perda calculada no conjunto de validação 0.4909\n",
        "Previsão do conjunto de validação com 88.08% das previsões foram corretas."
      ]
    }
  ],
  "metadata": {
    "accelerator": "TPU",
    "colab": {
      "gpuType": "V28",
      "provenance": []
    },
    "kernelspec": {
      "display_name": "Python 3",
      "name": "python3"
    },
    "language_info": {
      "name": "python"
    }
  },
  "nbformat": 4,
  "nbformat_minor": 0
}
