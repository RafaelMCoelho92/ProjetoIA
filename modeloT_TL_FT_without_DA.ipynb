{
  "nbformat": 4,
  "nbformat_minor": 0,
  "metadata": {
    "colab": {
      "provenance": [],
      "gpuType": "V28"
    },
    "kernelspec": {
      "name": "python3",
      "display_name": "Python 3"
    },
    "language_info": {
      "name": "python"
    },
    "accelerator": "TPU"
  },
  "cells": [
    {
      "cell_type": "code",
      "source": [
        "from google.colab import drive\n",
        "drive.mount('/content/drive')"
      ],
      "metadata": {
        "colab": {
          "base_uri": "https://localhost:8080/"
        },
        "id": "zGH2pwuY6-mf",
        "outputId": "d26d7643-2816-44d5-c10a-198e7251f8a3"
      },
      "execution_count": 1,
      "outputs": [
        {
          "output_type": "stream",
          "name": "stdout",
          "text": [
            "Mounted at /content/drive\n"
          ]
        }
      ]
    },
    {
      "cell_type": "code",
      "source": [
        "import tensorflow as tf\n",
        "from keras.utils import image_dataset_from_directory\n",
        "from keras.applications.vgg16 import VGG16\n",
        "from tensorflow import keras\n",
        "from keras import layers"
      ],
      "metadata": {
        "id": "iBXwOAwx7AzB"
      },
      "execution_count": 2,
      "outputs": []
    },
    {
      "cell_type": "code",
      "source": [
        "# Directories\n",
        "train_dirs = [\n",
        "    '/content/drive/MyDrive/ProjetoIA/dataset/train1',\n",
        "    '/content/drive/MyDrive/ProjetoIA/dataset/train2',\n",
        "    '/content/drive/MyDrive/ProjetoIA/dataset/train4',\n",
        "    '/content/drive/MyDrive/ProjetoIA/dataset/train5'\n",
        "]\n",
        "validation_dir = '/content/drive/MyDrive/ProjetoIA/dataset/train3'\n",
        "test_dir = '/content/drive/MyDrive/ProjetoIA/dataset/test'\n",
        "\n",
        "# Parameters\n",
        "IMG_SIZE = 150\n",
        "BATCH_SIZE = 32\n",
        "\n",
        "# Function to load datasets from multiple directories and concatenate them\n",
        "def load_and_concatenate_datasets(directories, img_size, batch_size):\n",
        "    datasets = []\n",
        "    for directory in directories:\n",
        "        dataset = image_dataset_from_directory(\n",
        "            directory,\n",
        "            image_size=(img_size, img_size),\n",
        "            batch_size=batch_size\n",
        "        )\n",
        "        datasets.append(dataset)\n",
        "    return datasets\n",
        "\n",
        "# Load train datasets and concatenate\n",
        "train_datasets = load_and_concatenate_datasets(train_dirs, IMG_SIZE, BATCH_SIZE)\n",
        "train_dataset = tf.data.Dataset.sample_from_datasets(train_datasets)\n",
        "\n",
        "# Load validation and test datasets\n",
        "validation_dataset = image_dataset_from_directory(\n",
        "    validation_dir,\n",
        "    image_size=(IMG_SIZE, IMG_SIZE),\n",
        "    batch_size=BATCH_SIZE\n",
        ")\n",
        "test_dataset = image_dataset_from_directory(\n",
        "    test_dir,\n",
        "    image_size=(IMG_SIZE, IMG_SIZE),\n",
        "    batch_size=BATCH_SIZE\n",
        ")\n",
        "\n",
        "# Extract class names from one of the datasets\n",
        "example_dataset = image_dataset_from_directory(\n",
        "    train_dirs[0],\n",
        "    image_size=(IMG_SIZE, IMG_SIZE),\n",
        "    batch_size=BATCH_SIZE\n",
        ")\n",
        "class_names = example_dataset.class_names\n",
        "print(class_names)"
      ],
      "metadata": {
        "colab": {
          "base_uri": "https://localhost:8080/"
        },
        "id": "ESQPrLUw7Cwi",
        "outputId": "e9cb3806-aa97-4987-ef46-bf4b1f8861c2"
      },
      "execution_count": 12,
      "outputs": [
        {
          "output_type": "stream",
          "name": "stdout",
          "text": [
            "Found 10400 files belonging to 10 classes.\n",
            "Found 9600 files belonging to 10 classes.\n",
            "Found 10000 files belonging to 10 classes.\n",
            "Found 10000 files belonging to 10 classes.\n",
            "Found 10000 files belonging to 10 classes.\n",
            "Found 10000 files belonging to 1 classes.\n",
            "Found 10400 files belonging to 10 classes.\n",
            "['000_airplane', '001_automobile', '002_bird', '003_cat', '004_deer', '005_dog', '006_frog', '007_horse', '008_ship', '009_truck']\n"
          ]
        }
      ]
    },
    {
      "cell_type": "code",
      "source": [
        "# Build the model\n",
        "conv_base = VGG16(weights=\"imagenet\", include_top=False)\n",
        "conv_base.trainable = True\n",
        "for layer in conv_base.layers[:-2]:\n",
        "    layer.trainable = False"
      ],
      "metadata": {
        "id": "zPZvesR77G9F"
      },
      "execution_count": 13,
      "outputs": []
    },
    {
      "cell_type": "code",
      "source": [
        "inputs = keras.Input(shape=(150, 150, 3))\n",
        "x = keras.applications.vgg16.preprocess_input(inputs)  # Apply input value scaling\n",
        "x = conv_base(x)\n",
        "x = layers.Flatten()(x)\n",
        "x = layers.Dense(256, activation='relu')(x)\n",
        "x = layers.Dropout(0.5)(x)\n",
        "outputs = layers.Dense(10, activation=\"softmax\")(x)\n",
        "model = keras.Model(inputs, outputs)"
      ],
      "metadata": {
        "id": "IKq9eBB97JyR"
      },
      "execution_count": 14,
      "outputs": []
    },
    {
      "cell_type": "code",
      "source": [
        "# Fine tuning\n",
        "model.compile(\n",
        "    loss=\"sparse_categorical_crossentropy\",\n",
        "    optimizer=keras.optimizers.RMSprop(learning_rate=1e-5),\n",
        "    metrics=[\"accuracy\"]\n",
        ")"
      ],
      "metadata": {
        "id": "dKwohYX47kHI"
      },
      "execution_count": 15,
      "outputs": []
    },
    {
      "cell_type": "code",
      "source": [
        "# Adding ModelCheckpoint callback\n",
        "checkpoint_cb = tf.keras.callbacks.ModelCheckpoint(\n",
        "    '/content/drive/MyDrive/ProjetoIA/models/best_modelT_TL_FT_without_DA.h5',\n",
        "    save_best_only=True,\n",
        "    monitor='val_loss',\n",
        "    mode='min',\n",
        "    verbose=1\n",
        ")\n",
        "early_stop = tf.keras.callbacks.EarlyStopping(monitor='val_loss',\n",
        "                           patience=5,\n",
        "                           verbose=1)"
      ],
      "metadata": {
        "id": "LL9yk66x7mmg"
      },
      "execution_count": 16,
      "outputs": []
    },
    {
      "cell_type": "code",
      "source": [
        "# Train the model with fine-tuning and checkpointing\n",
        "history = model.fit(\n",
        "    train_dataset,\n",
        "    epochs=30,\n",
        "    validation_data=validation_dataset,\n",
        "    callbacks=[checkpoint_cb,early_stop]\n",
        ")\n",
        "\n",
        "# Save the final model\n",
        "model.save('/content/drive/MyDrive/ProjetoIA/models/CNN_modelT_TL_FT_without_DA.h5')"
      ],
      "metadata": {
        "colab": {
          "base_uri": "https://localhost:8080/"
        },
        "id": "xbwqXjct7qY7",
        "outputId": "cc0522f3-6994-40df-b617-bdc85191b0e5"
      },
      "execution_count": 17,
      "outputs": [
        {
          "output_type": "stream",
          "name": "stdout",
          "text": [
            "Epoch 1/30\n",
            "   1251/Unknown - 394s 314ms/step - loss: 4.1475 - accuracy: 0.4888\n",
            "Epoch 1: val_loss improved from inf to 0.93821, saving model to /content/drive/MyDrive/ProjetoIA/models/best_modelT_TL_FT_without_DA.h5\n",
            "1251/1251 [==============================] - 480s 383ms/step - loss: 4.1475 - accuracy: 0.4888 - val_loss: 0.9382 - val_accuracy: 0.7393\n",
            "Epoch 2/30\n",
            "1251/1251 [==============================] - ETA: 0s - loss: 1.2252 - accuracy: 0.6802\n",
            "Epoch 2: val_loss improved from 0.93821 to 0.68712, saving model to /content/drive/MyDrive/ProjetoIA/models/best_modelT_TL_FT_without_DA.h5\n",
            "1251/1251 [==============================] - 472s 377ms/step - loss: 1.2252 - accuracy: 0.6802 - val_loss: 0.6871 - val_accuracy: 0.7892\n",
            "Epoch 3/30\n",
            "1251/1251 [==============================] - ETA: 0s - loss: 0.8453 - accuracy: 0.7585\n",
            "Epoch 3: val_loss improved from 0.68712 to 0.60882, saving model to /content/drive/MyDrive/ProjetoIA/models/best_modelT_TL_FT_without_DA.h5\n",
            "1251/1251 [==============================] - 473s 377ms/step - loss: 0.8453 - accuracy: 0.7585 - val_loss: 0.6088 - val_accuracy: 0.8194\n",
            "Epoch 4/30\n",
            "1251/1251 [==============================] - ETA: 0s - loss: 0.6609 - accuracy: 0.8045\n",
            "Epoch 4: val_loss improved from 0.60882 to 0.57089, saving model to /content/drive/MyDrive/ProjetoIA/models/best_modelT_TL_FT_without_DA.h5\n",
            "1251/1251 [==============================] - 475s 379ms/step - loss: 0.6609 - accuracy: 0.8045 - val_loss: 0.5709 - val_accuracy: 0.8330\n",
            "Epoch 5/30\n",
            "1251/1251 [==============================] - ETA: 0s - loss: 0.5401 - accuracy: 0.8383\n",
            "Epoch 5: val_loss improved from 0.57089 to 0.54661, saving model to /content/drive/MyDrive/ProjetoIA/models/best_modelT_TL_FT_without_DA.h5\n",
            "1251/1251 [==============================] - 479s 382ms/step - loss: 0.5401 - accuracy: 0.8383 - val_loss: 0.5466 - val_accuracy: 0.8445\n",
            "Epoch 6/30\n",
            "1251/1251 [==============================] - ETA: 0s - loss: 0.4627 - accuracy: 0.8583\n",
            "Epoch 6: val_loss improved from 0.54661 to 0.53518, saving model to /content/drive/MyDrive/ProjetoIA/models/best_modelT_TL_FT_without_DA.h5\n",
            "1251/1251 [==============================] - 476s 380ms/step - loss: 0.4627 - accuracy: 0.8583 - val_loss: 0.5352 - val_accuracy: 0.8515\n",
            "Epoch 7/30\n",
            "1251/1251 [==============================] - ETA: 0s - loss: 0.3982 - accuracy: 0.8785\n",
            "Epoch 7: val_loss did not improve from 0.53518\n",
            "1251/1251 [==============================] - 477s 381ms/step - loss: 0.3982 - accuracy: 0.8785 - val_loss: 0.5356 - val_accuracy: 0.8589\n",
            "Epoch 8/30\n",
            "1251/1251 [==============================] - ETA: 0s - loss: 0.3488 - accuracy: 0.8947\n",
            "Epoch 8: val_loss improved from 0.53518 to 0.52985, saving model to /content/drive/MyDrive/ProjetoIA/models/best_modelT_TL_FT_without_DA.h5\n",
            "1251/1251 [==============================] - 470s 376ms/step - loss: 0.3488 - accuracy: 0.8947 - val_loss: 0.5298 - val_accuracy: 0.8671\n",
            "Epoch 9/30\n",
            "1251/1251 [==============================] - ETA: 0s - loss: 0.3025 - accuracy: 0.9061\n",
            "Epoch 9: val_loss did not improve from 0.52985\n",
            "1251/1251 [==============================] - 479s 382ms/step - loss: 0.3025 - accuracy: 0.9061 - val_loss: 0.5398 - val_accuracy: 0.8700\n",
            "Epoch 10/30\n",
            "1251/1251 [==============================] - ETA: 0s - loss: 0.2721 - accuracy: 0.9174\n",
            "Epoch 10: val_loss improved from 0.52985 to 0.52764, saving model to /content/drive/MyDrive/ProjetoIA/models/best_modelT_TL_FT_without_DA.h5\n",
            "1251/1251 [==============================] - 478s 382ms/step - loss: 0.2721 - accuracy: 0.9174 - val_loss: 0.5276 - val_accuracy: 0.8724\n",
            "Epoch 11/30\n",
            "1251/1251 [==============================] - ETA: 0s - loss: 0.2460 - accuracy: 0.9234\n",
            "Epoch 11: val_loss did not improve from 0.52764\n",
            "1251/1251 [==============================] - 471s 376ms/step - loss: 0.2460 - accuracy: 0.9234 - val_loss: 0.5390 - val_accuracy: 0.8748\n",
            "Epoch 12/30\n",
            "1251/1251 [==============================] - ETA: 0s - loss: 0.2209 - accuracy: 0.9316\n",
            "Epoch 12: val_loss did not improve from 0.52764\n",
            "1251/1251 [==============================] - 478s 382ms/step - loss: 0.2209 - accuracy: 0.9316 - val_loss: 0.5399 - val_accuracy: 0.8780\n",
            "Epoch 13/30\n",
            "1251/1251 [==============================] - ETA: 0s - loss: 0.1978 - accuracy: 0.9383\n",
            "Epoch 13: val_loss did not improve from 0.52764\n",
            "1251/1251 [==============================] - 475s 379ms/step - loss: 0.1978 - accuracy: 0.9383 - val_loss: 0.5523 - val_accuracy: 0.8790\n",
            "Epoch 14/30\n",
            "1251/1251 [==============================] - ETA: 0s - loss: 0.1816 - accuracy: 0.9439\n",
            "Epoch 14: val_loss did not improve from 0.52764\n",
            "1251/1251 [==============================] - 478s 382ms/step - loss: 0.1816 - accuracy: 0.9439 - val_loss: 0.5497 - val_accuracy: 0.8808\n",
            "Epoch 15/30\n",
            "1251/1251 [==============================] - ETA: 0s - loss: 0.1667 - accuracy: 0.9488\n",
            "Epoch 15: val_loss did not improve from 0.52764\n",
            "1251/1251 [==============================] - 478s 382ms/step - loss: 0.1667 - accuracy: 0.9488 - val_loss: 0.5850 - val_accuracy: 0.8843\n",
            "Epoch 15: early stopping\n"
          ]
        }
      ]
    },
    {
      "cell_type": "code",
      "source": [
        "#Displaying curves of loss and accuracy\n",
        "\n",
        "import matplotlib.pyplot as plt\n",
        "acc = history.history['accuracy']\n",
        "val_acc = history.history['val_accuracy']\n",
        "loss = history.history['loss']\n",
        "val_loss = history.history['val_loss']\n",
        "epochs = range(1, len(acc) + 1)\n",
        "plt.plot(epochs, acc, 'bo', label='Training acc')\n",
        "plt.plot(epochs, val_acc, 'b', label='Validation acc')\n",
        "plt.title('Training and validation accuracy')\n",
        "plt.legend()\n",
        "plt.figure()\n",
        "plt.plot(epochs, loss, 'bo', label='Training loss')\n",
        "plt.plot(epochs, val_loss, 'b', label='Validation loss')\n",
        "plt.title('Training and validation loss')\n",
        "plt.legend()\n",
        "plt.show()"
      ],
      "metadata": {
        "colab": {
          "base_uri": "https://localhost:8080/",
          "height": 887
        },
        "id": "8nQnbA96_pPo",
        "outputId": "2d743e22-c692-42a4-a59e-9a90e9422c53"
      },
      "execution_count": 18,
      "outputs": [
        {
          "output_type": "display_data",
          "data": {
            "text/plain": [
              "<Figure size 640x480 with 1 Axes>"
            ],
            "image/png": "[encoded data removed]"
          },
          "metadata": {}
        },
        {
          "output_type": "display_data",
          "data": {
            "text/plain": [
              "<Figure size 640x480 with 1 Axes>"
            ],
            "image/png": "[encoded data removed]"
          },
          "metadata": {}
        }
      ]
    },
    {
      "cell_type": "code",
      "source": [
        "#Assessing the model’s performance\n",
        "test_loss, test_acc = model.evaluate(validation_dataset)#devolve um tuplo, sao objetos individuais\n",
        "print('test_acc:', test_acc)"
      ],
      "metadata": {
        "colab": {
          "base_uri": "https://localhost:8080/"
        },
        "id": "lLtMMLfYrv4U",
        "outputId": "1cc1b950-7a1e-47d5-b1e9-8dfc2be4139d"
      },
      "execution_count": 19,
      "outputs": [
        {
          "output_type": "stream",
          "name": "stdout",
          "text": [
            "313/313 [==============================] - 88s 281ms/step - loss: 0.5850 - accuracy: 0.8843\n",
            "test_acc: 0.8842999935150146\n"
          ]
        }
      ]
    }
  ]
}