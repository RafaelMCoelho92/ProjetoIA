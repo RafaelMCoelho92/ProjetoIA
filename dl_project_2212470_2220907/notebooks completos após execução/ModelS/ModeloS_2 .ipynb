{
  "cells": [
    {
      "cell_type": "code",
      "execution_count": null,
      "metadata": {
        "colab": {
          "base_uri": "https://localhost:8080/"
        },
        "id": "18tn8vw3eyo0",
        "outputId": "677fd2c6-db38-49f2-b534-6011ce245c56"
      },
      "outputs": [
        {
          "output_type": "stream",
          "name": "stdout",
          "text": [
            "Mounted at /content/drive\n"
          ]
        }
      ],
      "source": [
        "from google.colab import drive\n",
        "drive.mount('/content/drive')"
      ]
    },
    {
      "cell_type": "code",
      "source": [
        "import tensorflow as tf\n",
        "from keras.utils import image_dataset_from_directory\n",
        "# Directories\n",
        "train_dirs = [\n",
        "    '/content/drive/MyDrive/ProjetoIA/dataset/train1',\n",
        "    '/content/drive/MyDrive/ProjetoIA/dataset/train2',\n",
        "    '/content/drive/MyDrive/ProjetoIA/dataset/train4',\n",
        "    '/content/drive/MyDrive/ProjetoIA/dataset/train5'\n",
        "]\n",
        "validation_dir = '/content/drive/MyDrive/ProjetoIA/dataset/train3'\n",
        "test_dir = '/content/drive/MyDrive/ProjetoIA/dataset/test'\n",
        "\n",
        "# Parameters\n",
        "IMG_SIZE = 150\n",
        "BATCH_SIZE = 32\n",
        "\n",
        "# Function to load datasets from multiple directories and concatenate them\n",
        "def load_and_concatenate_datasets(directories, img_size, batch_size):\n",
        "    datasets = []\n",
        "    for directory in directories:\n",
        "        dataset = image_dataset_from_directory(\n",
        "            directory,\n",
        "            image_size=(img_size, img_size),\n",
        "            batch_size=batch_size\n",
        "        )\n",
        "        datasets.append(dataset)\n",
        "    return datasets\n",
        "\n",
        "# Load train datasets and concatenate\n",
        "train_datasets = load_and_concatenate_datasets(train_dirs, IMG_SIZE, BATCH_SIZE)\n",
        "train_dataset = tf.data.Dataset.sample_from_datasets(train_datasets)\n",
        "\n",
        "# Load validation and test datasets\n",
        "validation_dataset = image_dataset_from_directory(\n",
        "    validation_dir,\n",
        "    image_size=(IMG_SIZE, IMG_SIZE),\n",
        "    batch_size=BATCH_SIZE\n",
        ")\n",
        "test_dataset = image_dataset_from_directory(\n",
        "    test_dir,\n",
        "    image_size=(IMG_SIZE, IMG_SIZE),\n",
        "    batch_size=BATCH_SIZE\n",
        ")\n",
        "\n",
        "# Extract class names from one of the datasets\n",
        "example_dataset = image_dataset_from_directory(\n",
        "    train_dirs[0],\n",
        "    image_size=(IMG_SIZE, IMG_SIZE),\n",
        "    batch_size=BATCH_SIZE\n",
        ")\n",
        "class_names = example_dataset.class_names\n",
        "print(class_names)"
      ],
      "metadata": {
        "colab": {
          "base_uri": "https://localhost:8080/"
        },
        "id": "89J5_aJ3e6gY",
        "outputId": "fd641cfe-947e-42bf-8e7e-f96e57689158"
      },
      "execution_count": null,
      "outputs": [
        {
          "output_type": "stream",
          "name": "stdout",
          "text": [
            "Found 10400 files belonging to 10 classes.\n",
            "Found 9600 files belonging to 10 classes.\n",
            "Found 10000 files belonging to 10 classes.\n",
            "Found 10000 files belonging to 10 classes.\n",
            "Found 10000 files belonging to 10 classes.\n",
            "Found 10000 files belonging to 1 classes.\n",
            "Found 10400 files belonging to 10 classes.\n",
            "['000_airplane', '001_automobile', '002_bird', '003_cat', '004_deer', '005_dog', '006_frog', '007_horse', '008_ship', '009_truck']\n"
          ]
        }
      ]
    },
    {
      "cell_type": "code",
      "execution_count": null,
      "metadata": {
        "colab": {
          "base_uri": "https://localhost:8080/"
        },
        "id": "7onr1Pvweyo3",
        "outputId": "f214abd7-913e-49ad-d341-4b886e0d1947"
      },
      "outputs": [
        {
          "output_type": "stream",
          "name": "stdout",
          "text": [
            "data batch shape: (32, 150, 150, 3)\n",
            "labels batch shape: (32,)\n"
          ]
        }
      ],
      "source": [
        "#The shape of each batch\n",
        "\n",
        "for data_batch, labels_batch in train_dataset:\n",
        "  print('data batch shape:', data_batch.shape)\n",
        "  print('labels batch shape:', labels_batch.shape)\n",
        "  break"
      ]
    },
    {
      "cell_type": "code",
      "execution_count": null,
      "metadata": {
        "id": "3fn9I1qKeyo3"
      },
      "outputs": [],
      "source": [
        "#Creating the neural network\n",
        "from tensorflow import keras\n",
        "from keras import layers\n",
        "from keras import models\n",
        "inputs = keras.Input(shape=(IMG_SIZE, IMG_SIZE, 3))\n",
        "x = layers.Rescaling(1./255)(inputs)\n",
        "x = layers.Conv2D(filters=32, kernel_size=3, activation=\"relu\")(x)\n",
        "x = layers.MaxPooling2D(pool_size=2)(x)\n",
        "x = layers.Conv2D(filters=64, kernel_size=3, activation=\"relu\")(x)\n",
        "x = layers.MaxPooling2D(pool_size=2)(x)\n",
        "x = layers.Conv2D(filters=64, kernel_size=3, activation=\"relu\")(x)\n",
        "x = layers.MaxPooling2D(pool_size=2)(x)\n",
        "x = layers.Conv2D(filters=128, kernel_size=3, activation=\"relu\")(x)\n",
        "x = layers.MaxPooling2D(pool_size=2)(x)\n",
        "x = layers.Conv2D(filters=128, kernel_size=3, activation=\"relu\")(x)\n",
        "x = layers.MaxPooling2D(pool_size=2)(x)\n",
        "x = layers.Flatten()(x)\n",
        "x = layers.Dense(512, activation=\"relu\")(x)\n",
        "outputs = layers.Dense(10, activation=\"softmax\")(x)\n",
        "model = keras.Model(inputs=inputs, outputs=outputs)"
      ]
    },
    {
      "cell_type": "code",
      "execution_count": null,
      "metadata": {
        "colab": {
          "base_uri": "https://localhost:8080/"
        },
        "id": "1ZR0tZMEeyo3",
        "outputId": "c1b0a9a0-af9c-40fe-ef4f-3398b6b23377"
      },
      "outputs": [
        {
          "output_type": "stream",
          "name": "stdout",
          "text": [
            "Model: \"model\"\n",
            "_________________________________________________________________\n",
            " Layer (type)                Output Shape              Param #   \n",
            "=================================================================\n",
            " input_1 (InputLayer)        [(None, 150, 150, 3)]     0         \n",
            "                                                                 \n",
            " rescaling (Rescaling)       (None, 150, 150, 3)       0         \n",
            "                                                                 \n",
            " conv2d (Conv2D)             (None, 148, 148, 32)      896       \n",
            "                                                                 \n",
            " max_pooling2d (MaxPooling2  (None, 74, 74, 32)        0         \n",
            " D)                                                              \n",
            "                                                                 \n",
            " conv2d_1 (Conv2D)           (None, 72, 72, 64)        18496     \n",
            "                                                                 \n",
            " max_pooling2d_1 (MaxPoolin  (None, 36, 36, 64)        0         \n",
            " g2D)                                                            \n",
            "                                                                 \n",
            " conv2d_2 (Conv2D)           (None, 34, 34, 64)        36928     \n",
            "                                                                 \n",
            " max_pooling2d_2 (MaxPoolin  (None, 17, 17, 64)        0         \n",
            " g2D)                                                            \n",
            "                                                                 \n",
            " conv2d_3 (Conv2D)           (None, 15, 15, 128)       73856     \n",
            "                                                                 \n",
            " max_pooling2d_3 (MaxPoolin  (None, 7, 7, 128)         0         \n",
            " g2D)                                                            \n",
            "                                                                 \n",
            " conv2d_4 (Conv2D)           (None, 5, 5, 128)         147584    \n",
            "                                                                 \n",
            " max_pooling2d_4 (MaxPoolin  (None, 2, 2, 128)         0         \n",
            " g2D)                                                            \n",
            "                                                                 \n",
            " flatten (Flatten)           (None, 512)               0         \n",
            "                                                                 \n",
            " dense (Dense)               (None, 512)               262656    \n",
            "                                                                 \n",
            " dense_1 (Dense)             (None, 10)                5130      \n",
            "                                                                 \n",
            "=================================================================\n",
            "Total params: 545546 (2.08 MB)\n",
            "Trainable params: 545546 (2.08 MB)\n",
            "Non-trainable params: 0 (0.00 Byte)\n",
            "_________________________________________________________________\n"
          ]
        }
      ],
      "source": [
        "model.summary()"
      ]
    },
    {
      "cell_type": "code",
      "execution_count": null,
      "metadata": {
        "id": "i4I1VX2teyo3"
      },
      "outputs": [],
      "source": [
        "from tensorflow.keras.callbacks import ModelCheckpoint, EarlyStopping\n",
        "checkpoint_callback = ModelCheckpoint(filepath='/content/drive/MyDrive/ProjetoIA/models/modelS_2_best.h5',\n",
        "                                      monitor='val_loss',\n",
        "                                      save_best_only=True,\n",
        "                                      save_weights_only=False,\n",
        "                                      verbose=1)\n",
        "\n",
        "early_stopping_callback = EarlyStopping(monitor='val_loss',\n",
        "                                        patience=5,\n",
        "                                        verbose=1)"
      ]
    },
    {
      "cell_type": "code",
      "execution_count": null,
      "metadata": {
        "id": "-bNxXBtPeyo4"
      },
      "outputs": [],
      "source": [
        "import tensorflow as tf\n",
        "from keras.optimizers import Adam\n",
        "\n",
        "model.compile(optimizer=Adam(learning_rate=1e-4),\n",
        "              loss='sparse_categorical_crossentropy',\n",
        "              metrics=['accuracy'])"
      ]
    },
    {
      "cell_type": "code",
      "execution_count": null,
      "metadata": {
        "colab": {
          "base_uri": "https://localhost:8080/"
        },
        "id": "QQI1w-Wbeyo4",
        "outputId": "95d2ad86-f655-4a04-8975-8a6df6bbbca9"
      },
      "outputs": [
        {
          "metadata": {
            "tags": null
          },
          "name": "stdout",
          "output_type": "stream",
          "text": [
            "Epoch 1/50\n",
            "   1251/Unknown - 1205s 960ms/step - loss: 1.7948 - accuracy: 0.3425\n",
            "Epoch 1: val_loss improved from inf to 1.50047, saving model to /content/drive/MyDrive/ProjetoIA/models/modelS_2_best.h5\n"
          ]
        },
        {
          "metadata": {
            "tags": null
          },
          "name": "stderr",
          "output_type": "stream",
          "text": [
            "/usr/local/lib/python3.10/dist-packages/keras/src/engine/training.py:3103: UserWarning: You are saving your model as an HDF5 file via `model.save()`. This file format is considered legacy. We recommend using instead the native Keras format, e.g. `model.save('my_model.keras')`.\n",
            "  saving_api.save_model(\n"
          ]
        },
        {
          "output_type": "stream",
          "name": "stdout",
          "text": [
            "1251/1251 [==============================] - 1582s 1s/step - loss: 1.7948 - accuracy: 0.3425 - val_loss: 1.5005 - val_accuracy: 0.4568\n",
            "Epoch 2/50\n",
            "1251/1251 [==============================] - ETA: 0s - loss: 1.4521 - accuracy: 0.4764\n",
            "Epoch 2: val_loss improved from 1.50047 to 1.40763, saving model to /content/drive/MyDrive/ProjetoIA/models/modelS_2_best.h5\n",
            "1251/1251 [==============================] - 66s 53ms/step - loss: 1.4521 - accuracy: 0.4764 - val_loss: 1.4076 - val_accuracy: 0.4989\n",
            "Epoch 3/50\n",
            "1249/1251 [============================>.] - ETA: 0s - loss: 1.3110 - accuracy: 0.5354\n",
            "Epoch 3: val_loss improved from 1.40763 to 1.24342, saving model to /content/drive/MyDrive/ProjetoIA/models/modelS_2_best.h5\n",
            "1251/1251 [==============================] - 66s 52ms/step - loss: 1.3109 - accuracy: 0.5354 - val_loss: 1.2434 - val_accuracy: 0.5639\n",
            "Epoch 4/50\n",
            "1250/1251 [============================>.] - ETA: 0s - loss: 1.2126 - accuracy: 0.5735\n",
            "Epoch 4: val_loss improved from 1.24342 to 1.19051, saving model to /content/drive/MyDrive/ProjetoIA/models/modelS_2_best.h5\n",
            "1251/1251 [==============================] - 65s 52ms/step - loss: 1.2127 - accuracy: 0.5735 - val_loss: 1.1905 - val_accuracy: 0.5858\n",
            "Epoch 5/50\n",
            "1249/1251 [============================>.] - ETA: 0s - loss: 1.1272 - accuracy: 0.6048\n",
            "Epoch 5: val_loss improved from 1.19051 to 1.11760, saving model to /content/drive/MyDrive/ProjetoIA/models/modelS_2_best.h5\n",
            "1251/1251 [==============================] - 66s 52ms/step - loss: 1.1271 - accuracy: 0.6049 - val_loss: 1.1176 - val_accuracy: 0.6078\n",
            "Epoch 6/50\n",
            "1251/1251 [==============================] - ETA: 0s - loss: 1.0581 - accuracy: 0.6325\n",
            "Epoch 6: val_loss did not improve from 1.11760\n",
            "1251/1251 [==============================] - 65s 52ms/step - loss: 1.0581 - accuracy: 0.6325 - val_loss: 1.1258 - val_accuracy: 0.6172\n",
            "Epoch 7/50\n",
            "1251/1251 [==============================] - ETA: 0s - loss: 0.9986 - accuracy: 0.6549\n",
            "Epoch 7: val_loss improved from 1.11760 to 1.09571, saving model to /content/drive/MyDrive/ProjetoIA/models/modelS_2_best.h5\n",
            "1251/1251 [==============================] - 66s 53ms/step - loss: 0.9986 - accuracy: 0.6549 - val_loss: 1.0957 - val_accuracy: 0.6234\n",
            "Epoch 8/50\n",
            "1251/1251 [==============================] - ETA: 0s - loss: 0.9398 - accuracy: 0.6743\n",
            "Epoch 8: val_loss improved from 1.09571 to 1.01861, saving model to /content/drive/MyDrive/ProjetoIA/models/modelS_2_best.h5\n",
            "1251/1251 [==============================] - 66s 52ms/step - loss: 0.9398 - accuracy: 0.6743 - val_loss: 1.0186 - val_accuracy: 0.6475\n",
            "Epoch 9/50\n",
            "1251/1251 [==============================] - ETA: 0s - loss: 0.8878 - accuracy: 0.6933\n",
            "Epoch 9: val_loss did not improve from 1.01861\n",
            "1251/1251 [==============================] - 66s 52ms/step - loss: 0.8878 - accuracy: 0.6933 - val_loss: 1.0619 - val_accuracy: 0.6378\n",
            "Epoch 10/50\n",
            "1251/1251 [==============================] - ETA: 0s - loss: 0.8422 - accuracy: 0.7070\n",
            "Epoch 10: val_loss improved from 1.01861 to 1.01104, saving model to /content/drive/MyDrive/ProjetoIA/models/modelS_2_best.h5\n",
            "1251/1251 [==============================] - 66s 52ms/step - loss: 0.8422 - accuracy: 0.7070 - val_loss: 1.0110 - val_accuracy: 0.6565\n",
            "Epoch 11/50\n",
            "1251/1251 [==============================] - ETA: 0s - loss: 0.7913 - accuracy: 0.7286\n",
            "Epoch 11: val_loss improved from 1.01104 to 0.96920, saving model to /content/drive/MyDrive/ProjetoIA/models/modelS_2_best.h5\n",
            "1251/1251 [==============================] - 65s 52ms/step - loss: 0.7913 - accuracy: 0.7286 - val_loss: 0.9692 - val_accuracy: 0.6683\n",
            "Epoch 12/50\n",
            "1251/1251 [==============================] - ETA: 0s - loss: 0.7422 - accuracy: 0.7432\n",
            "Epoch 12: val_loss did not improve from 0.96920\n",
            "1251/1251 [==============================] - 65s 52ms/step - loss: 0.7422 - accuracy: 0.7432 - val_loss: 1.0190 - val_accuracy: 0.6576\n",
            "Epoch 13/50\n",
            "1249/1251 [============================>.] - ETA: 0s - loss: 0.6979 - accuracy: 0.7611\n",
            "Epoch 13: val_loss did not improve from 0.96920\n",
            "1251/1251 [==============================] - 65s 52ms/step - loss: 0.6976 - accuracy: 0.7613 - val_loss: 0.9715 - val_accuracy: 0.6766\n",
            "Epoch 14/50\n",
            "1251/1251 [==============================] - ETA: 0s - loss: 0.6495 - accuracy: 0.7785\n",
            "Epoch 14: val_loss did not improve from 0.96920\n",
            "1251/1251 [==============================] - 64s 51ms/step - loss: 0.6495 - accuracy: 0.7785 - val_loss: 0.9842 - val_accuracy: 0.6728\n",
            "Epoch 15/50\n",
            "1251/1251 [==============================] - ETA: 0s - loss: 0.6091 - accuracy: 0.7913\n",
            "Epoch 15: val_loss did not improve from 0.96920\n",
            "1251/1251 [==============================] - 65s 51ms/step - loss: 0.6091 - accuracy: 0.7913 - val_loss: 1.1129 - val_accuracy: 0.6510\n",
            "Epoch 16/50\n",
            "1251/1251 [==============================] - ETA: 0s - loss: 0.5609 - accuracy: 0.8076\n",
            "Epoch 16: val_loss did not improve from 0.96920\n",
            "1251/1251 [==============================] - 64s 51ms/step - loss: 0.5609 - accuracy: 0.8076 - val_loss: 1.0342 - val_accuracy: 0.6717\n",
            "Epoch 16: early stopping\n"
          ]
        }
      ],
      "source": [
        "#Training the model\n",
        "#history guarda todos os parametros gerados durante o treino\n",
        "history = model.fit(\n",
        "  train_dataset,\n",
        "  epochs=50,\n",
        "  validation_data=validation_dataset,# n usa para melhorar so para mostrar ao utilizador\n",
        "  callbacks=[checkpoint_callback, early_stopping_callback]\n",
        "  )"
      ]
    },
    {
      "cell_type": "code",
      "execution_count": null,
      "metadata": {
        "id": "SZ3xPwHaeyo4",
        "outputId": "7f00eeea-53bd-4e63-b743-225171b432e0"
      },
      "outputs": [
        {
          "name": "stdout",
          "output_type": "stream",
          "text": [
            "313/313 [==============================] - 65s 207ms/step - loss: 1.5914 - accuracy: 0.6758\n",
            "val_acc: 0.6758000254631042\n"
          ]
        }
      ],
      "source": [
        "#Loading IF NESCESARY\n",
        "from tensorflow import keras\n",
        "model = keras.models.load_model('/content/drive/MyDrive/ProjetoIA/models/modelS_2_best.h5')\n"
      ]
    },
    {
      "cell_type": "code",
      "source": [
        "#and testing the model\n",
        "val_loss, val_acc = model.evaluate(validation_dataset)\n",
        "print('val_acc:', val_acc)"
      ],
      "metadata": {
        "colab": {
          "base_uri": "https://localhost:8080/"
        },
        "id": "jfZSu1p6gPrw",
        "outputId": "eb6868cf-af68-4c98-cd20-6c7eaffa5170"
      },
      "execution_count": null,
      "outputs": [
        {
          "output_type": "stream",
          "name": "stdout",
          "text": [
            "313/313 [==============================] - 13s 41ms/step - loss: 1.0342 - accuracy: 0.6717\n",
            "val_acc: 0.6717000007629395\n"
          ]
        }
      ]
    },
    {
      "cell_type": "code",
      "execution_count": null,
      "metadata": {
        "colab": {
          "base_uri": "https://localhost:8080/",
          "height": 887
        },
        "id": "hg4gQjzbeyo4",
        "outputId": "5ed3dca2-30ee-48dd-a9db-2d4bd075bd2b"
      },
      "outputs": [
        {
          "output_type": "display_data",
          "data": {
            "text/plain": [
              "<Figure size 640x480 with 1 Axes>"
            ],
            "image/png": "[encoded data removed]"
          },
          "metadata": {}
        },
        {
          "output_type": "display_data",
          "data": {
            "text/plain": [
              "<Figure size 640x480 with 1 Axes>"
            ],
            "image/png": "[encoded data removed]"
          },
          "metadata": {}
        }
      ],
      "source": [
        "#Displaying curves of loss and accuracy\n",
        "\n",
        "import matplotlib.pyplot as plt\n",
        "acc = history.history['accuracy']\n",
        "val_acc = history.history['val_accuracy']\n",
        "loss = history.history['loss']\n",
        "val_loss = history.history['val_loss']\n",
        "epochs = range(1, len(acc) + 1)\n",
        "plt.plot(epochs, acc, 'bo', label='Training acc')\n",
        "plt.plot(epochs, val_acc, 'b', label='Validation acc')\n",
        "plt.title('Training and validation accuracy')\n",
        "plt.legend()\n",
        "plt.figure()\n",
        "plt.plot(epochs, loss, 'bo', label='Training loss')\n",
        "plt.plot(epochs, val_loss, 'b', label='Validation loss')\n",
        "plt.title('Training and validation loss')\n",
        "plt.legend()\n",
        "plt.show()"
      ]
    }
  ],
  "metadata": {
    "kernelspec": {
      "display_name": "Python 3",
      "name": "python3"
    },
    "language_info": {
      "codemirror_mode": {
        "name": "ipython",
        "version": 3
      },
      "file_extension": ".py",
      "mimetype": "text/x-python",
      "name": "python",
      "nbconvert_exporter": "python",
      "pygments_lexer": "ipython3",
      "version": "3.11.4"
    },
    "colab": {
      "provenance": [],
      "gpuType": "L4"
    },
    "accelerator": "GPU"
  },
  "nbformat": 4,
  "nbformat_minor": 0
}