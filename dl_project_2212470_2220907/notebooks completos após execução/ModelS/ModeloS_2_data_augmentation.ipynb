{
  "cells": [
    {
      "cell_type": "code",
      "execution_count": null,
      "metadata": {
        "colab": {
          "base_uri": "https://localhost:8080/"
        },
        "id": "KBe2e3UIhihM",
        "outputId": "c1dfdb91-b95b-4233-d3d3-8e2c4b03dba1"
      },
      "outputs": [
        {
          "output_type": "stream",
          "name": "stdout",
          "text": [
            "Mounted at /content/drive\n"
          ]
        }
      ],
      "source": [
        "from google.colab import drive\n",
        "drive.mount('/content/drive')"
      ]
    },
    {
      "cell_type": "code",
      "execution_count": null,
      "metadata": {
        "colab": {
          "base_uri": "https://localhost:8080/"
        },
        "id": "D7VJ7XgrhihN",
        "outputId": "165ed88d-998a-446c-d111-cfa176eaf5c8"
      },
      "outputs": [
        {
          "output_type": "stream",
          "name": "stdout",
          "text": [
            "Found 10400 files belonging to 10 classes.\n",
            "Found 9600 files belonging to 10 classes.\n",
            "Found 10000 files belonging to 10 classes.\n",
            "Found 10000 files belonging to 10 classes.\n",
            "Found 10000 files belonging to 10 classes.\n",
            "Found 10000 files belonging to 1 classes.\n",
            "Found 10400 files belonging to 10 classes.\n",
            "['000_airplane', '001_automobile', '002_bird', '003_cat', '004_deer', '005_dog', '006_frog', '007_horse', '008_ship', '009_truck']\n"
          ]
        }
      ],
      "source": [
        "import tensorflow as tf\n",
        "from keras.utils import image_dataset_from_directory\n",
        "# Directories\n",
        "train_dirs = [\n",
        "    '/content/drive/MyDrive/ProjetoIA/dataset/train1',\n",
        "    '/content/drive/MyDrive/ProjetoIA/dataset/train2',\n",
        "    '/content/drive/MyDrive/ProjetoIA/dataset/train4',\n",
        "    '/content/drive/MyDrive/ProjetoIA/dataset/train5'\n",
        "]\n",
        "validation_dir = '/content/drive/MyDrive/ProjetoIA/dataset/train3'\n",
        "test_dir = '/content/drive/MyDrive/ProjetoIA/dataset/test'\n",
        "\n",
        "# Parameters\n",
        "IMG_SIZE = 150\n",
        "BATCH_SIZE = 32\n",
        "\n",
        "# Function to load datasets from multiple directories and concatenate them\n",
        "def load_and_concatenate_datasets(directories, img_size, batch_size):\n",
        "    datasets = []\n",
        "    for directory in directories:\n",
        "        dataset = image_dataset_from_directory(\n",
        "            directory,\n",
        "            image_size=(img_size, img_size),\n",
        "            batch_size=batch_size\n",
        "        )\n",
        "        datasets.append(dataset)\n",
        "    return datasets\n",
        "\n",
        "# Load train datasets and concatenate\n",
        "train_datasets = load_and_concatenate_datasets(train_dirs, IMG_SIZE, BATCH_SIZE)\n",
        "train_dataset = tf.data.Dataset.sample_from_datasets(train_datasets)\n",
        "\n",
        "# Load validation and test datasets\n",
        "validation_dataset = image_dataset_from_directory(\n",
        "    validation_dir,\n",
        "    image_size=(IMG_SIZE, IMG_SIZE),\n",
        "    batch_size=BATCH_SIZE\n",
        ")\n",
        "test_dataset = image_dataset_from_directory(\n",
        "    test_dir,\n",
        "    image_size=(IMG_SIZE, IMG_SIZE),\n",
        "    batch_size=BATCH_SIZE\n",
        ")\n",
        "\n",
        "# Extract class names from one of the datasets\n",
        "example_dataset = image_dataset_from_directory(\n",
        "    train_dirs[0],\n",
        "    image_size=(IMG_SIZE, IMG_SIZE),\n",
        "    batch_size=BATCH_SIZE\n",
        ")\n",
        "class_names = example_dataset.class_names\n",
        "print(class_names)"
      ]
    },
    {
      "cell_type": "code",
      "execution_count": null,
      "metadata": {
        "id": "OPP8YgGGhihO"
      },
      "outputs": [],
      "source": [
        "from tensorflow import keras\n",
        "from keras import layers\n",
        "data_augmentation = keras.Sequential(\n",
        "  [\n",
        "  layers.RandomFlip(\"horizontal\"),\n",
        "  layers.RandomRotation(0.1),\n",
        "  layers.RandomZoom(0.2),\n",
        "  ]\n",
        ")"
      ]
    },
    {
      "cell_type": "code",
      "execution_count": null,
      "metadata": {
        "colab": {
          "base_uri": "https://localhost:8080/"
        },
        "id": "zNpi0wxthihO",
        "outputId": "ad340ca4-7ac5-437e-efd1-e67832918eb4"
      },
      "outputs": [
        {
          "output_type": "stream",
          "name": "stdout",
          "text": [
            "data batch shape: (32, 150, 150, 3)\n",
            "labels batch shape: (32,)\n"
          ]
        }
      ],
      "source": [
        "#The shape of each batch\n",
        "\n",
        "for data_batch, labels_batch in train_dataset:\n",
        "  print('data batch shape:', data_batch.shape)\n",
        "  print('labels batch shape:', labels_batch.shape)\n",
        "  break"
      ]
    },
    {
      "cell_type": "code",
      "execution_count": null,
      "metadata": {
        "id": "Ed4InANvhihO"
      },
      "outputs": [],
      "source": [
        "#Creating the neural network\n",
        "from tensorflow import keras\n",
        "from keras import layers\n",
        "from keras import models\n",
        "inputs = keras.Input(shape=(IMG_SIZE, IMG_SIZE, 3))\n",
        "x = data_augmentation(inputs)\n",
        "x = layers.Rescaling(1./255)(inputs)\n",
        "x = layers.Conv2D(filters=32, kernel_size=3, activation=\"relu\")(x)\n",
        "x = layers.MaxPooling2D(pool_size=2)(x)\n",
        "x = layers.Conv2D(filters=64, kernel_size=3, activation=\"relu\")(x)\n",
        "x = layers.MaxPooling2D(pool_size=2)(x)\n",
        "x = layers.Conv2D(filters=64, kernel_size=3, activation=\"relu\")(x)\n",
        "x = layers.MaxPooling2D(pool_size=2)(x)\n",
        "x = layers.Conv2D(filters=128, kernel_size=3, activation=\"relu\")(x)\n",
        "x = layers.MaxPooling2D(pool_size=2)(x)\n",
        "x = layers.Conv2D(filters=128, kernel_size=3, activation=\"relu\")(x)\n",
        "x = layers.MaxPooling2D(pool_size=2)(x)\n",
        "x = layers.Flatten()(x)\n",
        "x = layers.Dense(512, activation=\"relu\")(x)\n",
        "outputs = layers.Dense(10, activation=\"softmax\")(x)\n",
        "model = keras.Model(inputs=inputs, outputs=outputs)"
      ]
    },
    {
      "cell_type": "code",
      "execution_count": null,
      "metadata": {
        "colab": {
          "base_uri": "https://localhost:8080/"
        },
        "id": "s0GwQc2dhihP",
        "outputId": "d5d88b23-7eb8-4be3-f8e5-6a4633c1a672"
      },
      "outputs": [
        {
          "output_type": "stream",
          "name": "stdout",
          "text": [
            "Model: \"model\"\n",
            "_________________________________________________________________\n",
            " Layer (type)                Output Shape              Param #   \n",
            "=================================================================\n",
            " input_1 (InputLayer)        [(None, 150, 150, 3)]     0         \n",
            "                                                                 \n",
            " rescaling (Rescaling)       (None, 150, 150, 3)       0         \n",
            "                                                                 \n",
            " conv2d (Conv2D)             (None, 148, 148, 32)      896       \n",
            "                                                                 \n",
            " max_pooling2d (MaxPooling2  (None, 74, 74, 32)        0         \n",
            " D)                                                              \n",
            "                                                                 \n",
            " conv2d_1 (Conv2D)           (None, 72, 72, 64)        18496     \n",
            "                                                                 \n",
            " max_pooling2d_1 (MaxPoolin  (None, 36, 36, 64)        0         \n",
            " g2D)                                                            \n",
            "                                                                 \n",
            " conv2d_2 (Conv2D)           (None, 34, 34, 64)        36928     \n",
            "                                                                 \n",
            " max_pooling2d_2 (MaxPoolin  (None, 17, 17, 64)        0         \n",
            " g2D)                                                            \n",
            "                                                                 \n",
            " conv2d_3 (Conv2D)           (None, 15, 15, 128)       73856     \n",
            "                                                                 \n",
            " max_pooling2d_3 (MaxPoolin  (None, 7, 7, 128)         0         \n",
            " g2D)                                                            \n",
            "                                                                 \n",
            " conv2d_4 (Conv2D)           (None, 5, 5, 128)         147584    \n",
            "                                                                 \n",
            " max_pooling2d_4 (MaxPoolin  (None, 2, 2, 128)         0         \n",
            " g2D)                                                            \n",
            "                                                                 \n",
            " flatten (Flatten)           (None, 512)               0         \n",
            "                                                                 \n",
            " dense (Dense)               (None, 512)               262656    \n",
            "                                                                 \n",
            " dense_1 (Dense)             (None, 10)                5130      \n",
            "                                                                 \n",
            "=================================================================\n",
            "Total params: 545546 (2.08 MB)\n",
            "Trainable params: 545546 (2.08 MB)\n",
            "Non-trainable params: 0 (0.00 Byte)\n",
            "_________________________________________________________________\n"
          ]
        }
      ],
      "source": [
        "model.summary()"
      ]
    },
    {
      "cell_type": "code",
      "execution_count": null,
      "metadata": {
        "id": "0mmJrK2ihihP"
      },
      "outputs": [],
      "source": [
        "from tensorflow.keras.callbacks import ModelCheckpoint, EarlyStopping\n",
        "checkpoint_callback = ModelCheckpoint(filepath='/content/drive/MyDrive/ProjetoIA/models/modelS_2_data_augmentation_best.h5',\n",
        "                                      monitor='val_loss',\n",
        "                                      save_best_only=True,\n",
        "                                      save_weights_only=True,\n",
        "                                      verbose=1)\n",
        "\n",
        "early_stopping_callback = EarlyStopping(monitor='val_loss',\n",
        "                                        patience=6,\n",
        "                                        verbose=1)"
      ]
    },
    {
      "cell_type": "code",
      "execution_count": null,
      "metadata": {
        "id": "2w6qjwV5hihP"
      },
      "outputs": [],
      "source": [
        "import tensorflow as tf\n",
        "from keras.optimizers import Adam\n",
        "\n",
        "model.compile(optimizer=Adam(learning_rate=0.001),\n",
        "              loss='sparse_categorical_crossentropy',\n",
        "              metrics=['accuracy'])"
      ]
    },
    {
      "cell_type": "code",
      "execution_count": null,
      "metadata": {
        "colab": {
          "base_uri": "https://localhost:8080/"
        },
        "id": "mtBQBlpUhihP",
        "outputId": "ae75ee07-2b70-4de8-edf4-8e0582bd4acb"
      },
      "outputs": [
        {
          "output_type": "stream",
          "name": "stdout",
          "text": [
            "Epoch 1/50\n",
            "   1251/Unknown - 2542s 2s/step - loss: 1.7536 - accuracy: 0.3528\n",
            "Epoch 1: val_loss improved from inf to 1.56187, saving model to /content/drive/MyDrive/ProjetoIA/models/modelS_2_data_augmentation_best.h5\n",
            "1251/1251 [==============================] - 3442s 3s/step - loss: 1.7536 - accuracy: 0.3528 - val_loss: 1.5619 - val_accuracy: 0.4302\n",
            "Epoch 2/50\n",
            "1248/1251 [============================>.] - ETA: 0s - loss: 1.3761 - accuracy: 0.5023\n",
            "Epoch 2: val_loss improved from 1.56187 to 1.26241, saving model to /content/drive/MyDrive/ProjetoIA/models/modelS_2_data_augmentation_best.h5\n",
            "1251/1251 [==============================] - 66s 53ms/step - loss: 1.3759 - accuracy: 0.5023 - val_loss: 1.2624 - val_accuracy: 0.5466\n",
            "Epoch 3/50\n",
            "1248/1251 [============================>.] - ETA: 0s - loss: 1.2073 - accuracy: 0.5689\n",
            "Epoch 3: val_loss improved from 1.26241 to 1.18575, saving model to /content/drive/MyDrive/ProjetoIA/models/modelS_2_data_augmentation_best.h5\n",
            "1251/1251 [==============================] - 66s 53ms/step - loss: 1.2070 - accuracy: 0.5689 - val_loss: 1.1857 - val_accuracy: 0.5768\n",
            "Epoch 4/50\n",
            "1251/1251 [==============================] - ETA: 0s - loss: 1.0784 - accuracy: 0.6176\n",
            "Epoch 4: val_loss improved from 1.18575 to 1.11040, saving model to /content/drive/MyDrive/ProjetoIA/models/modelS_2_data_augmentation_best.h5\n",
            "1251/1251 [==============================] - 66s 53ms/step - loss: 1.0784 - accuracy: 0.6176 - val_loss: 1.1104 - val_accuracy: 0.6105\n",
            "Epoch 5/50\n",
            "1248/1251 [============================>.] - ETA: 0s - loss: 0.9712 - accuracy: 0.6588\n",
            "Epoch 5: val_loss improved from 1.11040 to 1.08437, saving model to /content/drive/MyDrive/ProjetoIA/models/modelS_2_data_augmentation_best.h5\n",
            "1251/1251 [==============================] - 67s 54ms/step - loss: 0.9711 - accuracy: 0.6588 - val_loss: 1.0844 - val_accuracy: 0.6248\n",
            "Epoch 6/50\n",
            "1248/1251 [============================>.] - ETA: 0s - loss: 0.8658 - accuracy: 0.6942\n",
            "Epoch 6: val_loss improved from 1.08437 to 1.06881, saving model to /content/drive/MyDrive/ProjetoIA/models/modelS_2_data_augmentation_best.h5\n",
            "1251/1251 [==============================] - 66s 53ms/step - loss: 0.8655 - accuracy: 0.6942 - val_loss: 1.0688 - val_accuracy: 0.6412\n",
            "Epoch 7/50\n",
            "1250/1251 [============================>.] - ETA: 0s - loss: 0.7762 - accuracy: 0.7263\n",
            "Epoch 7: val_loss did not improve from 1.06881\n",
            "1251/1251 [==============================] - 66s 52ms/step - loss: 0.7760 - accuracy: 0.7264 - val_loss: 1.0820 - val_accuracy: 0.6349\n",
            "Epoch 8/50\n",
            "1248/1251 [============================>.] - ETA: 0s - loss: 0.6934 - accuracy: 0.7573\n",
            "Epoch 8: val_loss improved from 1.06881 to 1.05781, saving model to /content/drive/MyDrive/ProjetoIA/models/modelS_2_data_augmentation_best.h5\n",
            "1251/1251 [==============================] - 66s 52ms/step - loss: 0.6935 - accuracy: 0.7574 - val_loss: 1.0578 - val_accuracy: 0.6563\n",
            "Epoch 9/50\n",
            "1248/1251 [============================>.] - ETA: 0s - loss: 0.6113 - accuracy: 0.7831\n",
            "Epoch 9: val_loss did not improve from 1.05781\n",
            "1251/1251 [==============================] - 67s 53ms/step - loss: 0.6110 - accuracy: 0.7832 - val_loss: 1.1433 - val_accuracy: 0.6499\n",
            "Epoch 10/50\n",
            "1251/1251 [==============================] - ETA: 0s - loss: 0.5344 - accuracy: 0.8106\n",
            "Epoch 10: val_loss did not improve from 1.05781\n",
            "1251/1251 [==============================] - 66s 53ms/step - loss: 0.5344 - accuracy: 0.8106 - val_loss: 1.2806 - val_accuracy: 0.6357\n",
            "Epoch 11/50\n",
            "1249/1251 [============================>.] - ETA: 0s - loss: 0.4650 - accuracy: 0.8336\n",
            "Epoch 11: val_loss did not improve from 1.05781\n",
            "1251/1251 [==============================] - 66s 52ms/step - loss: 0.4647 - accuracy: 0.8337 - val_loss: 1.3258 - val_accuracy: 0.6472\n",
            "Epoch 12/50\n",
            "1248/1251 [============================>.] - ETA: 0s - loss: 0.4167 - accuracy: 0.8503\n",
            "Epoch 12: val_loss did not improve from 1.05781\n",
            "1251/1251 [==============================] - 66s 52ms/step - loss: 0.4167 - accuracy: 0.8503 - val_loss: 1.4825 - val_accuracy: 0.6399\n",
            "Epoch 13/50\n",
            "1251/1251 [==============================] - ETA: 0s - loss: 0.3549 - accuracy: 0.8732\n",
            "Epoch 13: val_loss did not improve from 1.05781\n",
            "1251/1251 [==============================] - 66s 52ms/step - loss: 0.3549 - accuracy: 0.8732 - val_loss: 1.5347 - val_accuracy: 0.6396\n",
            "Epoch 14/50\n",
            "1251/1251 [==============================] - ETA: 0s - loss: 0.3206 - accuracy: 0.8854\n",
            "Epoch 14: val_loss did not improve from 1.05781\n",
            "1251/1251 [==============================] - 66s 52ms/step - loss: 0.3206 - accuracy: 0.8854 - val_loss: 1.5867 - val_accuracy: 0.6432\n",
            "Epoch 14: early stopping\n"
          ]
        }
      ],
      "source": [
        "#Training the model\n",
        "#history guarda todos os parametros gerados durante o treino\n",
        "history = model.fit(\n",
        "  train_dataset,\n",
        "  epochs=50,\n",
        "  validation_data=validation_dataset,\n",
        "  callbacks=[checkpoint_callback, early_stopping_callback]\n",
        "  )# n usa para melhorar so para mostrar ao utilizador"
      ]
    },
    {
      "cell_type": "code",
      "execution_count": null,
      "metadata": {
        "colab": {
          "base_uri": "https://localhost:8080/"
        },
        "id": "0kqdW5ZkhihP",
        "outputId": "5e23d189-f743-477b-edb4-6e0de288ea62"
      },
      "outputs": [
        {
          "output_type": "stream",
          "name": "stdout",
          "text": [
            "313/313 [==============================] - 13s 40ms/step - loss: 1.5867 - accuracy: 0.6432\n",
            "val_acc: 0.6431999802589417\n"
          ]
        }
      ],
      "source": [
        "#como demora muito tempo vamos dar load de um test model\n",
        "\n",
        "#Loading and testing the model\n",
        "from tensorflow import keras\n",
        "#model = keras.models.load_model('models/modelS_augmentation.h5')\n",
        "\n",
        "val_loss, val_acc = model.evaluate(validation_dataset)\n",
        "print('val_acc:', val_acc)"
      ]
    },
    {
      "cell_type": "code",
      "execution_count": null,
      "metadata": {
        "colab": {
          "base_uri": "https://localhost:8080/",
          "height": 887
        },
        "id": "P_ZXU1cZhihP",
        "outputId": "f3b53e69-e082-40db-89ef-28c9ca03a9af"
      },
      "outputs": [
        {
          "output_type": "display_data",
          "data": {
            "text/plain": [
              "<Figure size 640x480 with 1 Axes>"
            ],
            "image/png": "[encoded data removed]"
          },
          "metadata": {}
        },
        {
          "output_type": "display_data",
          "data": {
            "text/plain": [
              "<Figure size 640x480 with 1 Axes>"
            ],
            "image/png": "[encoded data removed]"
          },
          "metadata": {}
        }
      ],
      "source": [
        "#Displaying curves of loss and accuracy\n",
        "\n",
        "import matplotlib.pyplot as plt\n",
        "acc = history.history['accuracy']\n",
        "val_acc = history.history['val_accuracy']\n",
        "loss = history.history['loss']\n",
        "val_loss = history.history['val_loss']\n",
        "epochs = range(1, len(acc) + 1)\n",
        "plt.plot(epochs, acc, 'bo', label='Training acc')\n",
        "plt.plot(epochs, val_acc, 'b', label='Validation acc')\n",
        "plt.title('Training and validation accuracy')\n",
        "plt.legend()\n",
        "plt.figure()\n",
        "plt.plot(epochs, loss, 'bo', label='Training loss')\n",
        "plt.plot(epochs, val_loss, 'b', label='Validation loss')\n",
        "plt.title('Training and validation loss')\n",
        "plt.legend()\n",
        "plt.show()"
      ]
    }
  ],
  "metadata": {
    "kernelspec": {
      "display_name": "Python 3",
      "name": "python3"
    },
    "language_info": {
      "codemirror_mode": {
        "name": "ipython",
        "version": 3
      },
      "file_extension": ".py",
      "mimetype": "text/x-python",
      "name": "python",
      "nbconvert_exporter": "python",
      "pygments_lexer": "ipython3",
      "version": "3.11.4"
    },
    "colab": {
      "provenance": [],
      "gpuType": "L4"
    },
    "accelerator": "GPU"
  },
  "nbformat": 4,
  "nbformat_minor": 0
}