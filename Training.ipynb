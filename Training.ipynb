{
 "cells": [
  {
   "cell_type": "code",
   "execution_count": 1,
   "metadata": {},
   "outputs": [
    {
     "name": "stdout",
     "output_type": "stream",
     "text": [
      "WARNING:tensorflow:From c:\\Users\\Margarida\\AppData\\Local\\Programs\\Python\\Python311\\Lib\\site-packages\\keras\\src\\losses.py:2976: The name tf.losses.sparse_softmax_cross_entropy is deprecated. Please use tf.compat.v1.losses.sparse_softmax_cross_entropy instead.\n",
      "\n",
      "WARNING:tensorflow:From c:\\Users\\Margarida\\AppData\\Local\\Programs\\Python\\Python311\\Lib\\site-packages\\keras\\src\\backend.py:1398: The name tf.executing_eagerly_outside_functions is deprecated. Please use tf.compat.v1.executing_eagerly_outside_functions instead.\n",
      "\n",
      "WARNING:tensorflow:From c:\\Users\\Margarida\\AppData\\Local\\Programs\\Python\\Python311\\Lib\\site-packages\\keras\\src\\layers\\pooling\\max_pooling2d.py:161: The name tf.nn.max_pool is deprecated. Please use tf.nn.max_pool2d instead.\n",
      "\n"
     ]
    }
   ],
   "source": [
    "from tensorflow import keras\n",
    "model = keras.models.load_model('models/04_CNN_modelS_10epochs_all_training_data.h5')"
   ]
  },
  {
   "cell_type": "code",
   "execution_count": 2,
   "metadata": {},
   "outputs": [
    {
     "name": "stdout",
     "output_type": "stream",
     "text": [
      "Found 40039 files belonging to 10 classes.\n",
      "Found 10000 files belonging to 10 classes.\n",
      "Found 10000 files belonging to 1 classes.\n"
     ]
    }
   ],
   "source": [
    "import os, shutil\n",
    "train_dir = 'train'\n",
    "validation_dir = 'train3'\n",
    "test_dir = 'test'\n",
    "train_airplane_dir = 'train/000_airplane'\n",
    "train_automobile_dir = 'train/001_automobile'\n",
    "train_bird_dir = 'train/002_bird'\n",
    "train_cat_dir = 'train/003_cat'\n",
    "train_deer_dir = 'train/004_deer'\n",
    "train_dog_dir = 'train/005_dog'\n",
    "train_frog_dir = 'train/006_frog'\n",
    "train_horse_dir = 'train/007_horse'\n",
    "train_ship_dir = 'train/008_ship'\n",
    "train_truck_dir = 'train/009_truck'\n",
    "val_airplane_dir = 'train3/000_airplane'\n",
    "val_automobile_dir = 'train3/001_automobile'\n",
    "val_bird_dir = 'train3/002_bird'\n",
    "val_cat_dir = 'train3/003_cat'\n",
    "val_deer_dir = 'train3/004_deer'\n",
    "val_dog_dir = 'train3/005_dog'\n",
    "val_frog_dir = 'train3/006_frog'\n",
    "val_horse_dir = 'train3/007_horse'\n",
    "val_ship_dir = 'train3/008_ship'\n",
    "val_truck_dir = 'train3/009_truck'\n",
    "test_airplane_dir = 'test/test/000_airplane'\n",
    "test_automobile_dir = 'test/test/001_automobile'\n",
    "test_bird_dir = 'test/test/002_bird'\n",
    "test_cat_dir = 'test/test/003_cat'\n",
    "test_deer_dir = 'test/test/004_deer'\n",
    "test_dog_dir = 'test/test/005_dog'\n",
    "test_frog_dir = 'test/test/006_frog'\n",
    "test_horse_dir = 'test/test/007_horse'\n",
    "test_ship_dir = 'test/test/008_ship'\n",
    "test_truck_dir = 'test/test/009_truck'\n",
    "\n",
    "from keras.utils import image_dataset_from_directory\n",
    "IMG_SIZE = 250\n",
    "train_dataset = image_dataset_from_directory(\n",
    "train_dir,\n",
    "image_size=(IMG_SIZE, IMG_SIZE),\n",
    "batch_size=32)\n",
    "validation_dataset = image_dataset_from_directory(\n",
    "validation_dir,\n",
    "image_size=(IMG_SIZE, IMG_SIZE),\n",
    "batch_size=32)\n",
    "test_dataset = image_dataset_from_directory(\n",
    "test_dir,\n",
    "image_size=(IMG_SIZE, IMG_SIZE),\n",
    "batch_size=32)\n"
   ]
  },
  {
   "cell_type": "code",
   "execution_count": 7,
   "metadata": {},
   "outputs": [
    {
     "name": "stdout",
     "output_type": "stream",
     "text": [
      "Epoch 1/10\n",
      "1252/1252 [==============================] - 3329s 3s/step - loss: 0.0564 - acc: 0.9777 - val_loss: 2.1548 - val_acc: 0.6894\n",
      "Epoch 2/10\n",
      "1252/1252 [==============================] - 3341s 3s/step - loss: 0.0525 - acc: 0.9795 - val_loss: 2.1341 - val_acc: 0.6912\n",
      "Epoch 3/10\n",
      "1252/1252 [==============================] - 3324s 3s/step - loss: 0.0480 - acc: 0.9823 - val_loss: 2.1629 - val_acc: 0.6749\n",
      "Epoch 4/10\n",
      "1252/1252 [==============================] - 3347s 3s/step - loss: 0.0454 - acc: 0.9832 - val_loss: 2.4571 - val_acc: 0.6860\n",
      "Epoch 5/10\n",
      "1252/1252 [==============================] - 3388s 3s/step - loss: 0.0437 - acc: 0.9837 - val_loss: 2.2265 - val_acc: 0.6879\n",
      "Epoch 6/10\n",
      "1252/1252 [==============================] - 3445s 3s/step - loss: 0.0413 - acc: 0.9852 - val_loss: 2.2393 - val_acc: 0.6949\n",
      "Epoch 7/10\n",
      " 448/1252 [=========>....................] - ETA: 35:04 - loss: 0.0340 - acc: 0.9879"
     ]
    }
   ],
   "source": [
    "history = model.fit(\n",
    "  train_dataset,\n",
    "  epochs=10,\n",
    "  validation_data=validation_dataset)\n",
    "\n",
    "model.save(\"models/04_CNN_modelS_10epochs_all_training_data.h5\")"
   ]
  },
  {
   "cell_type": "code",
   "execution_count": 4,
   "metadata": {},
   "outputs": [
    {
     "name": "stderr",
     "output_type": "stream",
     "text": [
      "c:\\Users\\Margarida\\AppData\\Local\\Programs\\Python\\Python311\\Lib\\site-packages\\keras\\src\\engine\\training.py:3103: UserWarning: You are saving your model as an HDF5 file via `model.save()`. This file format is considered legacy. We recommend using instead the native Keras format, e.g. `model.save('my_model.keras')`.\n",
      "  saving_api.save_model(\n"
     ]
    }
   ],
   "source": [
    "model.save(\"models/04_CNN_modelS_10epochs_all_training_data.h5\")"
   ]
  },
  {
   "cell_type": "code",
   "execution_count": 3,
   "metadata": {},
   "outputs": [
    {
     "name": "stdout",
     "output_type": "stream",
     "text": [
      "WARNING:tensorflow:From c:\\Users\\Margarida\\AppData\\Local\\Programs\\Python\\Python311\\Lib\\site-packages\\keras\\src\\utils\\tf_utils.py:492: The name tf.ragged.RaggedTensorValue is deprecated. Please use tf.compat.v1.ragged.RaggedTensorValue instead.\n",
      "\n",
      "313/313 [==============================] - 84s 266ms/step - loss: 2.0263 - acc: 0.6917\n",
      "val_acc: 0.6916999816894531\n"
     ]
    }
   ],
   "source": [
    "from tensorflow import keras\n",
    "model = keras.models.load_model('models/04_CNN_modelS_10epochs_all_training_data.h5')\n",
    "val_loss, val_acc = model.evaluate(validation_dataset)\n",
    "print('val_acc:', val_acc)"
   ]
  }
 ],
 "metadata": {
  "kernelspec": {
   "display_name": "Python 3",
   "language": "python",
   "name": "python3"
  },
  "language_info": {
   "codemirror_mode": {
    "name": "ipython",
    "version": 3
   },
   "file_extension": ".py",
   "mimetype": "text/x-python",
   "name": "python",
   "nbconvert_exporter": "python",
   "pygments_lexer": "ipython3",
   "version": "3.11.4"
  }
 },
 "nbformat": 4,
 "nbformat_minor": 2
}
